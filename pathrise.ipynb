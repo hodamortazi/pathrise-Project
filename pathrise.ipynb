{
  "nbformat": 4,
  "nbformat_minor": 0,
  "metadata": {
    "colab": {
      "provenance": []
    },
    "kernelspec": {
      "name": "python3",
      "display_name": "Python 3"
    },
    "language_info": {
      "name": "python"
    }
  },
  "cells": [
    {
      "cell_type": "code",
      "execution_count": null,
      "metadata": {
        "id": "N79KKnGUwkG3"
      },
      "outputs": [],
      "source": [
        "from google.colab import files"
      ]
    },
    {
      "cell_type": "code",
      "source": [
        "uploaded = files.upload()\n"
      ],
      "metadata": {
        "colab": {
          "base_uri": "https://localhost:8080/",
          "height": 90
        },
        "id": "wm6Apnn1xCWZ",
        "outputId": "7f34506e-0b44-4eac-bd06-959c6c5da624"
      },
      "execution_count": null,
      "outputs": [
        {
          "output_type": "display_data",
          "data": {
            "text/plain": [
              "<IPython.core.display.HTML object>"
            ],
            "text/html": [
              "\n",
              "     <input type=\"file\" id=\"files-0e487872-fc1a-401b-84a4-4219fba1cf2e\" name=\"files[]\" multiple disabled\n",
              "        style=\"border:none\" />\n",
              "     <output id=\"result-0e487872-fc1a-401b-84a4-4219fba1cf2e\">\n",
              "      Upload widget is only available when the cell has been executed in the\n",
              "      current browser session. Please rerun this cell to enable.\n",
              "      </output>\n",
              "      <script>// Copyright 2017 Google LLC\n",
              "//\n",
              "// Licensed under the Apache License, Version 2.0 (the \"License\");\n",
              "// you may not use this file except in compliance with the License.\n",
              "// You may obtain a copy of the License at\n",
              "//\n",
              "//      http://www.apache.org/licenses/LICENSE-2.0\n",
              "//\n",
              "// Unless required by applicable law or agreed to in writing, software\n",
              "// distributed under the License is distributed on an \"AS IS\" BASIS,\n",
              "// WITHOUT WARRANTIES OR CONDITIONS OF ANY KIND, either express or implied.\n",
              "// See the License for the specific language governing permissions and\n",
              "// limitations under the License.\n",
              "\n",
              "/**\n",
              " * @fileoverview Helpers for google.colab Python module.\n",
              " */\n",
              "(function(scope) {\n",
              "function span(text, styleAttributes = {}) {\n",
              "  const element = document.createElement('span');\n",
              "  element.textContent = text;\n",
              "  for (const key of Object.keys(styleAttributes)) {\n",
              "    element.style[key] = styleAttributes[key];\n",
              "  }\n",
              "  return element;\n",
              "}\n",
              "\n",
              "// Max number of bytes which will be uploaded at a time.\n",
              "const MAX_PAYLOAD_SIZE = 100 * 1024;\n",
              "\n",
              "function _uploadFiles(inputId, outputId) {\n",
              "  const steps = uploadFilesStep(inputId, outputId);\n",
              "  const outputElement = document.getElementById(outputId);\n",
              "  // Cache steps on the outputElement to make it available for the next call\n",
              "  // to uploadFilesContinue from Python.\n",
              "  outputElement.steps = steps;\n",
              "\n",
              "  return _uploadFilesContinue(outputId);\n",
              "}\n",
              "\n",
              "// This is roughly an async generator (not supported in the browser yet),\n",
              "// where there are multiple asynchronous steps and the Python side is going\n",
              "// to poll for completion of each step.\n",
              "// This uses a Promise to block the python side on completion of each step,\n",
              "// then passes the result of the previous step as the input to the next step.\n",
              "function _uploadFilesContinue(outputId) {\n",
              "  const outputElement = document.getElementById(outputId);\n",
              "  const steps = outputElement.steps;\n",
              "\n",
              "  const next = steps.next(outputElement.lastPromiseValue);\n",
              "  return Promise.resolve(next.value.promise).then((value) => {\n",
              "    // Cache the last promise value to make it available to the next\n",
              "    // step of the generator.\n",
              "    outputElement.lastPromiseValue = value;\n",
              "    return next.value.response;\n",
              "  });\n",
              "}\n",
              "\n",
              "/**\n",
              " * Generator function which is called between each async step of the upload\n",
              " * process.\n",
              " * @param {string} inputId Element ID of the input file picker element.\n",
              " * @param {string} outputId Element ID of the output display.\n",
              " * @return {!Iterable<!Object>} Iterable of next steps.\n",
              " */\n",
              "function* uploadFilesStep(inputId, outputId) {\n",
              "  const inputElement = document.getElementById(inputId);\n",
              "  inputElement.disabled = false;\n",
              "\n",
              "  const outputElement = document.getElementById(outputId);\n",
              "  outputElement.innerHTML = '';\n",
              "\n",
              "  const pickedPromise = new Promise((resolve) => {\n",
              "    inputElement.addEventListener('change', (e) => {\n",
              "      resolve(e.target.files);\n",
              "    });\n",
              "  });\n",
              "\n",
              "  const cancel = document.createElement('button');\n",
              "  inputElement.parentElement.appendChild(cancel);\n",
              "  cancel.textContent = 'Cancel upload';\n",
              "  const cancelPromise = new Promise((resolve) => {\n",
              "    cancel.onclick = () => {\n",
              "      resolve(null);\n",
              "    };\n",
              "  });\n",
              "\n",
              "  // Wait for the user to pick the files.\n",
              "  const files = yield {\n",
              "    promise: Promise.race([pickedPromise, cancelPromise]),\n",
              "    response: {\n",
              "      action: 'starting',\n",
              "    }\n",
              "  };\n",
              "\n",
              "  cancel.remove();\n",
              "\n",
              "  // Disable the input element since further picks are not allowed.\n",
              "  inputElement.disabled = true;\n",
              "\n",
              "  if (!files) {\n",
              "    return {\n",
              "      response: {\n",
              "        action: 'complete',\n",
              "      }\n",
              "    };\n",
              "  }\n",
              "\n",
              "  for (const file of files) {\n",
              "    const li = document.createElement('li');\n",
              "    li.append(span(file.name, {fontWeight: 'bold'}));\n",
              "    li.append(span(\n",
              "        `(${file.type || 'n/a'}) - ${file.size} bytes, ` +\n",
              "        `last modified: ${\n",
              "            file.lastModifiedDate ? file.lastModifiedDate.toLocaleDateString() :\n",
              "                                    'n/a'} - `));\n",
              "    const percent = span('0% done');\n",
              "    li.appendChild(percent);\n",
              "\n",
              "    outputElement.appendChild(li);\n",
              "\n",
              "    const fileDataPromise = new Promise((resolve) => {\n",
              "      const reader = new FileReader();\n",
              "      reader.onload = (e) => {\n",
              "        resolve(e.target.result);\n",
              "      };\n",
              "      reader.readAsArrayBuffer(file);\n",
              "    });\n",
              "    // Wait for the data to be ready.\n",
              "    let fileData = yield {\n",
              "      promise: fileDataPromise,\n",
              "      response: {\n",
              "        action: 'continue',\n",
              "      }\n",
              "    };\n",
              "\n",
              "    // Use a chunked sending to avoid message size limits. See b/62115660.\n",
              "    let position = 0;\n",
              "    do {\n",
              "      const length = Math.min(fileData.byteLength - position, MAX_PAYLOAD_SIZE);\n",
              "      const chunk = new Uint8Array(fileData, position, length);\n",
              "      position += length;\n",
              "\n",
              "      const base64 = btoa(String.fromCharCode.apply(null, chunk));\n",
              "      yield {\n",
              "        response: {\n",
              "          action: 'append',\n",
              "          file: file.name,\n",
              "          data: base64,\n",
              "        },\n",
              "      };\n",
              "\n",
              "      let percentDone = fileData.byteLength === 0 ?\n",
              "          100 :\n",
              "          Math.round((position / fileData.byteLength) * 100);\n",
              "      percent.textContent = `${percentDone}% done`;\n",
              "\n",
              "    } while (position < fileData.byteLength);\n",
              "  }\n",
              "\n",
              "  // All done.\n",
              "  yield {\n",
              "    response: {\n",
              "      action: 'complete',\n",
              "    }\n",
              "  };\n",
              "}\n",
              "\n",
              "scope.google = scope.google || {};\n",
              "scope.google.colab = scope.google.colab || {};\n",
              "scope.google.colab._files = {\n",
              "  _uploadFiles,\n",
              "  _uploadFilesContinue,\n",
              "};\n",
              "})(self);\n",
              "</script> "
            ]
          },
          "metadata": {}
        },
        {
          "output_type": "stream",
          "name": "stdout",
          "text": [
            "Saving Data_Pathrise.xlsx to Data_Pathrise (1).xlsx\n"
          ]
        }
      ]
    },
    {
      "cell_type": "code",
      "source": [
        "import pandas as pd"
      ],
      "metadata": {
        "id": "6X5ZohixxIWa"
      },
      "execution_count": null,
      "outputs": []
    },
    {
      "cell_type": "code",
      "source": [
        "df = pd.read_excel('Data_Pathrise.xlsx')"
      ],
      "metadata": {
        "id": "Fkg9ifDjxUXB"
      },
      "execution_count": null,
      "outputs": []
    },
    {
      "cell_type": "code",
      "source": [
        "df.head()"
      ],
      "metadata": {
        "colab": {
          "base_uri": "https://localhost:8080/",
          "height": 504
        },
        "id": "KCyJQG9T1dhu",
        "outputId": "1bf59209-550d-4531-d722-196fc1ad04d1"
      },
      "execution_count": null,
      "outputs": [
        {
          "output_type": "execute_result",
          "data": {
            "text/plain": [
              "   id pathrise_status primary_track cohort_tag  program_duration_days  placed  \\\n",
              "0   1          Active           SWE     OCT19A                    NaN       0   \n",
              "1   2          Active           PSO     JAN20A                    NaN       0   \n",
              "2   3     Closed Lost        Design     AUG19B                    0.0       0   \n",
              "3   4     Closed Lost           PSO     AUG19B                    0.0       0   \n",
              "4   5          Placed           SWE     AUG19A                   89.0       1   \n",
              "\n",
              "   employment_status  highest_level_of_education length_of_job_search  \\\n",
              "0          Unemployed          Bachelor's Degree           3-5 months   \n",
              "1          Unemployed    Some College, No Degree           3-5 months   \n",
              "2  Employed Part-Time            Master's Degree  Less than one month   \n",
              "3          Contractor          Bachelor's Degree  Less than one month   \n",
              "4          Unemployed          Bachelor's Degree           1-2 months   \n",
              "\n",
              "            biggest_challenge_in_search professional_experience  \\\n",
              "0       Hearing back on my applications               3-4 years   \n",
              "1   Getting past final round interviews               1-2 years   \n",
              "2  Figuring out which jobs to apply for      Less than one year   \n",
              "3   Getting past final round interviews      Less than one year   \n",
              "4       Hearing back on my applications               1-2 years   \n",
              "\n",
              "  work_authorization_status  number_of_interviews  number_of_applications  \\\n",
              "0            Canada Citizen                   2.0                     900   \n",
              "1                   Citizen                   6.0                       0   \n",
              "2                   Citizen                   0.0                       0   \n",
              "3                   Citizen                   5.0                      25   \n",
              "4               F1 Visa/OPT                  10.0                     100   \n",
              "\n",
              "  gender                                 race  \n",
              "0   Male  Non-Hispanic White or Euro-American  \n",
              "1   Male  Non-Hispanic White or Euro-American  \n",
              "2   Male         East Asian or Asian American  \n",
              "3   Male             Decline to Self Identify  \n",
              "4   Male         East Asian or Asian American  "
            ],
            "text/html": [
              "\n",
              "  <div id=\"df-99127d83-72ea-4c74-9c7f-8d71e1cd66ac\" class=\"colab-df-container\">\n",
              "    <div>\n",
              "<style scoped>\n",
              "    .dataframe tbody tr th:only-of-type {\n",
              "        vertical-align: middle;\n",
              "    }\n",
              "\n",
              "    .dataframe tbody tr th {\n",
              "        vertical-align: top;\n",
              "    }\n",
              "\n",
              "    .dataframe thead th {\n",
              "        text-align: right;\n",
              "    }\n",
              "</style>\n",
              "<table border=\"1\" class=\"dataframe\">\n",
              "  <thead>\n",
              "    <tr style=\"text-align: right;\">\n",
              "      <th></th>\n",
              "      <th>id</th>\n",
              "      <th>pathrise_status</th>\n",
              "      <th>primary_track</th>\n",
              "      <th>cohort_tag</th>\n",
              "      <th>program_duration_days</th>\n",
              "      <th>placed</th>\n",
              "      <th>employment_status</th>\n",
              "      <th>highest_level_of_education</th>\n",
              "      <th>length_of_job_search</th>\n",
              "      <th>biggest_challenge_in_search</th>\n",
              "      <th>professional_experience</th>\n",
              "      <th>work_authorization_status</th>\n",
              "      <th>number_of_interviews</th>\n",
              "      <th>number_of_applications</th>\n",
              "      <th>gender</th>\n",
              "      <th>race</th>\n",
              "    </tr>\n",
              "  </thead>\n",
              "  <tbody>\n",
              "    <tr>\n",
              "      <th>0</th>\n",
              "      <td>1</td>\n",
              "      <td>Active</td>\n",
              "      <td>SWE</td>\n",
              "      <td>OCT19A</td>\n",
              "      <td>NaN</td>\n",
              "      <td>0</td>\n",
              "      <td>Unemployed</td>\n",
              "      <td>Bachelor's Degree</td>\n",
              "      <td>3-5 months</td>\n",
              "      <td>Hearing back on my applications</td>\n",
              "      <td>3-4 years</td>\n",
              "      <td>Canada Citizen</td>\n",
              "      <td>2.0</td>\n",
              "      <td>900</td>\n",
              "      <td>Male</td>\n",
              "      <td>Non-Hispanic White or Euro-American</td>\n",
              "    </tr>\n",
              "    <tr>\n",
              "      <th>1</th>\n",
              "      <td>2</td>\n",
              "      <td>Active</td>\n",
              "      <td>PSO</td>\n",
              "      <td>JAN20A</td>\n",
              "      <td>NaN</td>\n",
              "      <td>0</td>\n",
              "      <td>Unemployed</td>\n",
              "      <td>Some College, No Degree</td>\n",
              "      <td>3-5 months</td>\n",
              "      <td>Getting past final round interviews</td>\n",
              "      <td>1-2 years</td>\n",
              "      <td>Citizen</td>\n",
              "      <td>6.0</td>\n",
              "      <td>0</td>\n",
              "      <td>Male</td>\n",
              "      <td>Non-Hispanic White or Euro-American</td>\n",
              "    </tr>\n",
              "    <tr>\n",
              "      <th>2</th>\n",
              "      <td>3</td>\n",
              "      <td>Closed Lost</td>\n",
              "      <td>Design</td>\n",
              "      <td>AUG19B</td>\n",
              "      <td>0.0</td>\n",
              "      <td>0</td>\n",
              "      <td>Employed Part-Time</td>\n",
              "      <td>Master's Degree</td>\n",
              "      <td>Less than one month</td>\n",
              "      <td>Figuring out which jobs to apply for</td>\n",
              "      <td>Less than one year</td>\n",
              "      <td>Citizen</td>\n",
              "      <td>0.0</td>\n",
              "      <td>0</td>\n",
              "      <td>Male</td>\n",
              "      <td>East Asian or Asian American</td>\n",
              "    </tr>\n",
              "    <tr>\n",
              "      <th>3</th>\n",
              "      <td>4</td>\n",
              "      <td>Closed Lost</td>\n",
              "      <td>PSO</td>\n",
              "      <td>AUG19B</td>\n",
              "      <td>0.0</td>\n",
              "      <td>0</td>\n",
              "      <td>Contractor</td>\n",
              "      <td>Bachelor's Degree</td>\n",
              "      <td>Less than one month</td>\n",
              "      <td>Getting past final round interviews</td>\n",
              "      <td>Less than one year</td>\n",
              "      <td>Citizen</td>\n",
              "      <td>5.0</td>\n",
              "      <td>25</td>\n",
              "      <td>Male</td>\n",
              "      <td>Decline to Self Identify</td>\n",
              "    </tr>\n",
              "    <tr>\n",
              "      <th>4</th>\n",
              "      <td>5</td>\n",
              "      <td>Placed</td>\n",
              "      <td>SWE</td>\n",
              "      <td>AUG19A</td>\n",
              "      <td>89.0</td>\n",
              "      <td>1</td>\n",
              "      <td>Unemployed</td>\n",
              "      <td>Bachelor's Degree</td>\n",
              "      <td>1-2 months</td>\n",
              "      <td>Hearing back on my applications</td>\n",
              "      <td>1-2 years</td>\n",
              "      <td>F1 Visa/OPT</td>\n",
              "      <td>10.0</td>\n",
              "      <td>100</td>\n",
              "      <td>Male</td>\n",
              "      <td>East Asian or Asian American</td>\n",
              "    </tr>\n",
              "  </tbody>\n",
              "</table>\n",
              "</div>\n",
              "    <div class=\"colab-df-buttons\">\n",
              "\n",
              "  <div class=\"colab-df-container\">\n",
              "    <button class=\"colab-df-convert\" onclick=\"convertToInteractive('df-99127d83-72ea-4c74-9c7f-8d71e1cd66ac')\"\n",
              "            title=\"Convert this dataframe to an interactive table.\"\n",
              "            style=\"display:none;\">\n",
              "\n",
              "  <svg xmlns=\"http://www.w3.org/2000/svg\" height=\"24px\" viewBox=\"0 -960 960 960\">\n",
              "    <path d=\"M120-120v-720h720v720H120Zm60-500h600v-160H180v160Zm220 220h160v-160H400v160Zm0 220h160v-160H400v160ZM180-400h160v-160H180v160Zm440 0h160v-160H620v160ZM180-180h160v-160H180v160Zm440 0h160v-160H620v160Z\"/>\n",
              "  </svg>\n",
              "    </button>\n",
              "\n",
              "  <style>\n",
              "    .colab-df-container {\n",
              "      display:flex;\n",
              "      gap: 12px;\n",
              "    }\n",
              "\n",
              "    .colab-df-convert {\n",
              "      background-color: #E8F0FE;\n",
              "      border: none;\n",
              "      border-radius: 50%;\n",
              "      cursor: pointer;\n",
              "      display: none;\n",
              "      fill: #1967D2;\n",
              "      height: 32px;\n",
              "      padding: 0 0 0 0;\n",
              "      width: 32px;\n",
              "    }\n",
              "\n",
              "    .colab-df-convert:hover {\n",
              "      background-color: #E2EBFA;\n",
              "      box-shadow: 0px 1px 2px rgba(60, 64, 67, 0.3), 0px 1px 3px 1px rgba(60, 64, 67, 0.15);\n",
              "      fill: #174EA6;\n",
              "    }\n",
              "\n",
              "    .colab-df-buttons div {\n",
              "      margin-bottom: 4px;\n",
              "    }\n",
              "\n",
              "    [theme=dark] .colab-df-convert {\n",
              "      background-color: #3B4455;\n",
              "      fill: #D2E3FC;\n",
              "    }\n",
              "\n",
              "    [theme=dark] .colab-df-convert:hover {\n",
              "      background-color: #434B5C;\n",
              "      box-shadow: 0px 1px 3px 1px rgba(0, 0, 0, 0.15);\n",
              "      filter: drop-shadow(0px 1px 2px rgba(0, 0, 0, 0.3));\n",
              "      fill: #FFFFFF;\n",
              "    }\n",
              "  </style>\n",
              "\n",
              "    <script>\n",
              "      const buttonEl =\n",
              "        document.querySelector('#df-99127d83-72ea-4c74-9c7f-8d71e1cd66ac button.colab-df-convert');\n",
              "      buttonEl.style.display =\n",
              "        google.colab.kernel.accessAllowed ? 'block' : 'none';\n",
              "\n",
              "      async function convertToInteractive(key) {\n",
              "        const element = document.querySelector('#df-99127d83-72ea-4c74-9c7f-8d71e1cd66ac');\n",
              "        const dataTable =\n",
              "          await google.colab.kernel.invokeFunction('convertToInteractive',\n",
              "                                                    [key], {});\n",
              "        if (!dataTable) return;\n",
              "\n",
              "        const docLinkHtml = 'Like what you see? Visit the ' +\n",
              "          '<a target=\"_blank\" href=https://colab.research.google.com/notebooks/data_table.ipynb>data table notebook</a>'\n",
              "          + ' to learn more about interactive tables.';\n",
              "        element.innerHTML = '';\n",
              "        dataTable['output_type'] = 'display_data';\n",
              "        await google.colab.output.renderOutput(dataTable, element);\n",
              "        const docLink = document.createElement('div');\n",
              "        docLink.innerHTML = docLinkHtml;\n",
              "        element.appendChild(docLink);\n",
              "      }\n",
              "    </script>\n",
              "  </div>\n",
              "\n",
              "\n",
              "<div id=\"df-a0bed543-a016-4f59-a8d2-943a997ad4e2\">\n",
              "  <button class=\"colab-df-quickchart\" onclick=\"quickchart('df-a0bed543-a016-4f59-a8d2-943a997ad4e2')\"\n",
              "            title=\"Suggest charts\"\n",
              "            style=\"display:none;\">\n",
              "\n",
              "<svg xmlns=\"http://www.w3.org/2000/svg\" height=\"24px\"viewBox=\"0 0 24 24\"\n",
              "     width=\"24px\">\n",
              "    <g>\n",
              "        <path d=\"M19 3H5c-1.1 0-2 .9-2 2v14c0 1.1.9 2 2 2h14c1.1 0 2-.9 2-2V5c0-1.1-.9-2-2-2zM9 17H7v-7h2v7zm4 0h-2V7h2v10zm4 0h-2v-4h2v4z\"/>\n",
              "    </g>\n",
              "</svg>\n",
              "  </button>\n",
              "\n",
              "<style>\n",
              "  .colab-df-quickchart {\n",
              "      --bg-color: #E8F0FE;\n",
              "      --fill-color: #1967D2;\n",
              "      --hover-bg-color: #E2EBFA;\n",
              "      --hover-fill-color: #174EA6;\n",
              "      --disabled-fill-color: #AAA;\n",
              "      --disabled-bg-color: #DDD;\n",
              "  }\n",
              "\n",
              "  [theme=dark] .colab-df-quickchart {\n",
              "      --bg-color: #3B4455;\n",
              "      --fill-color: #D2E3FC;\n",
              "      --hover-bg-color: #434B5C;\n",
              "      --hover-fill-color: #FFFFFF;\n",
              "      --disabled-bg-color: #3B4455;\n",
              "      --disabled-fill-color: #666;\n",
              "  }\n",
              "\n",
              "  .colab-df-quickchart {\n",
              "    background-color: var(--bg-color);\n",
              "    border: none;\n",
              "    border-radius: 50%;\n",
              "    cursor: pointer;\n",
              "    display: none;\n",
              "    fill: var(--fill-color);\n",
              "    height: 32px;\n",
              "    padding: 0;\n",
              "    width: 32px;\n",
              "  }\n",
              "\n",
              "  .colab-df-quickchart:hover {\n",
              "    background-color: var(--hover-bg-color);\n",
              "    box-shadow: 0 1px 2px rgba(60, 64, 67, 0.3), 0 1px 3px 1px rgba(60, 64, 67, 0.15);\n",
              "    fill: var(--button-hover-fill-color);\n",
              "  }\n",
              "\n",
              "  .colab-df-quickchart-complete:disabled,\n",
              "  .colab-df-quickchart-complete:disabled:hover {\n",
              "    background-color: var(--disabled-bg-color);\n",
              "    fill: var(--disabled-fill-color);\n",
              "    box-shadow: none;\n",
              "  }\n",
              "\n",
              "  .colab-df-spinner {\n",
              "    border: 2px solid var(--fill-color);\n",
              "    border-color: transparent;\n",
              "    border-bottom-color: var(--fill-color);\n",
              "    animation:\n",
              "      spin 1s steps(1) infinite;\n",
              "  }\n",
              "\n",
              "  @keyframes spin {\n",
              "    0% {\n",
              "      border-color: transparent;\n",
              "      border-bottom-color: var(--fill-color);\n",
              "      border-left-color: var(--fill-color);\n",
              "    }\n",
              "    20% {\n",
              "      border-color: transparent;\n",
              "      border-left-color: var(--fill-color);\n",
              "      border-top-color: var(--fill-color);\n",
              "    }\n",
              "    30% {\n",
              "      border-color: transparent;\n",
              "      border-left-color: var(--fill-color);\n",
              "      border-top-color: var(--fill-color);\n",
              "      border-right-color: var(--fill-color);\n",
              "    }\n",
              "    40% {\n",
              "      border-color: transparent;\n",
              "      border-right-color: var(--fill-color);\n",
              "      border-top-color: var(--fill-color);\n",
              "    }\n",
              "    60% {\n",
              "      border-color: transparent;\n",
              "      border-right-color: var(--fill-color);\n",
              "    }\n",
              "    80% {\n",
              "      border-color: transparent;\n",
              "      border-right-color: var(--fill-color);\n",
              "      border-bottom-color: var(--fill-color);\n",
              "    }\n",
              "    90% {\n",
              "      border-color: transparent;\n",
              "      border-bottom-color: var(--fill-color);\n",
              "    }\n",
              "  }\n",
              "</style>\n",
              "\n",
              "  <script>\n",
              "    async function quickchart(key) {\n",
              "      const quickchartButtonEl =\n",
              "        document.querySelector('#' + key + ' button');\n",
              "      quickchartButtonEl.disabled = true;  // To prevent multiple clicks.\n",
              "      quickchartButtonEl.classList.add('colab-df-spinner');\n",
              "      try {\n",
              "        const charts = await google.colab.kernel.invokeFunction(\n",
              "            'suggestCharts', [key], {});\n",
              "      } catch (error) {\n",
              "        console.error('Error during call to suggestCharts:', error);\n",
              "      }\n",
              "      quickchartButtonEl.classList.remove('colab-df-spinner');\n",
              "      quickchartButtonEl.classList.add('colab-df-quickchart-complete');\n",
              "    }\n",
              "    (() => {\n",
              "      let quickchartButtonEl =\n",
              "        document.querySelector('#df-a0bed543-a016-4f59-a8d2-943a997ad4e2 button');\n",
              "      quickchartButtonEl.style.display =\n",
              "        google.colab.kernel.accessAllowed ? 'block' : 'none';\n",
              "    })();\n",
              "  </script>\n",
              "</div>\n",
              "    </div>\n",
              "  </div>\n"
            ]
          },
          "metadata": {},
          "execution_count": 38
        }
      ]
    },
    {
      "cell_type": "code",
      "source": [
        "df.info()"
      ],
      "metadata": {
        "colab": {
          "base_uri": "https://localhost:8080/"
        },
        "id": "yem9P-CfxbaT",
        "outputId": "9d2d5a45-011d-4a21-b9c2-e49a6d73a1dd"
      },
      "execution_count": null,
      "outputs": [
        {
          "output_type": "stream",
          "name": "stdout",
          "text": [
            "<class 'pandas.core.frame.DataFrame'>\n",
            "RangeIndex: 2544 entries, 0 to 2543\n",
            "Data columns (total 16 columns):\n",
            " #   Column                       Non-Null Count  Dtype  \n",
            "---  ------                       --------------  -----  \n",
            " 0   id                           2544 non-null   int64  \n",
            " 1   pathrise_status              2544 non-null   object \n",
            " 2   primary_track                2544 non-null   object \n",
            " 3   cohort_tag                   2536 non-null   object \n",
            " 4   program_duration_days        1928 non-null   float64\n",
            " 5   placed                       2544 non-null   int64  \n",
            " 6   employment_status            2315 non-null   object \n",
            " 7   highest_level_of_education   2486 non-null   object \n",
            " 8   length_of_job_search         2470 non-null   object \n",
            " 9   biggest_challenge_in_search  2520 non-null   object \n",
            " 10  professional_experience      2322 non-null   object \n",
            " 11  work_authorization_status    2260 non-null   object \n",
            " 12  number_of_interviews         2326 non-null   float64\n",
            " 13  number_of_applications       2544 non-null   int64  \n",
            " 14  gender                       2052 non-null   object \n",
            " 15  race                         2526 non-null   object \n",
            "dtypes: float64(2), int64(3), object(11)\n",
            "memory usage: 318.1+ KB\n"
          ]
        }
      ]
    },
    {
      "cell_type": "code",
      "source": [
        "df['placed'].value_counts()"
      ],
      "metadata": {
        "colab": {
          "base_uri": "https://localhost:8080/"
        },
        "id": "JvVteqvO27tU",
        "outputId": "7d1ee7d3-87f5-4e76-b80a-71e4fb6c1ca1"
      },
      "execution_count": null,
      "outputs": [
        {
          "output_type": "execute_result",
          "data": {
            "text/plain": [
              "0    1588\n",
              "1     956\n",
              "Name: placed, dtype: int64"
            ]
          },
          "metadata": {},
          "execution_count": 39
        }
      ]
    },
    {
      "cell_type": "code",
      "source": [
        "df = df[df['placed'] == 1]"
      ],
      "metadata": {
        "id": "AEwP_boM3J0O"
      },
      "execution_count": null,
      "outputs": []
    },
    {
      "cell_type": "code",
      "source": [
        "df['pathrise_status'].value_counts()"
      ],
      "metadata": {
        "colab": {
          "base_uri": "https://localhost:8080/"
        },
        "id": "aqqpegd4xm5e",
        "outputId": "f35d00b4-855b-4eca-e887-3304434a974a"
      },
      "execution_count": null,
      "outputs": [
        {
          "output_type": "execute_result",
          "data": {
            "text/plain": [
              "Placed    956\n",
              "Name: pathrise_status, dtype: int64"
            ]
          },
          "metadata": {},
          "execution_count": 41
        }
      ]
    },
    {
      "cell_type": "code",
      "source": [
        "df['length_of_job_search'].value_counts()"
      ],
      "metadata": {
        "id": "YWT9jjksDLOP",
        "colab": {
          "base_uri": "https://localhost:8080/"
        },
        "outputId": "609588d3-0e7e-4533-ea91-4243e702d793"
      },
      "execution_count": null,
      "outputs": [
        {
          "output_type": "execute_result",
          "data": {
            "text/plain": [
              "1-2 months             318\n",
              "Less than one month    299\n",
              "3-5 months             174\n",
              "6 months to a year      84\n",
              "Over a year             44\n",
              "Name: length_of_job_search, dtype: int64"
            ]
          },
          "metadata": {},
          "execution_count": 10
        }
      ]
    },
    {
      "cell_type": "code",
      "source": [
        "\n",
        "df = df[df['length_of_job_search'] != 'Over a year']"
      ],
      "metadata": {
        "id": "PDUgcaxZEKJq"
      },
      "execution_count": null,
      "outputs": []
    },
    {
      "cell_type": "code",
      "source": [
        "df['length_of_job_search'].value_counts()"
      ],
      "metadata": {
        "colab": {
          "base_uri": "https://localhost:8080/"
        },
        "id": "YoX1VFbSAELC",
        "outputId": "879c58a3-72e6-4cca-e07e-9be0442b0fa5"
      },
      "execution_count": null,
      "outputs": [
        {
          "output_type": "execute_result",
          "data": {
            "text/plain": [
              "1-2 months             318\n",
              "Less than one month    299\n",
              "3-5 months             174\n",
              "6 months to a year      84\n",
              "Name: length_of_job_search, dtype: int64"
            ]
          },
          "metadata": {},
          "execution_count": 12
        }
      ]
    },
    {
      "cell_type": "code",
      "source": [
        "def summary_time(x) :\n",
        "  if 'Less than one month' in str(x) :\n",
        "    return '30'\n",
        "  elif '1-2 months' in str(x) :\n",
        "    return '60'\n",
        "  elif '3-5 months' in str(x) :\n",
        "    return '120'\n",
        "  elif '6 months to a year' in str(x) :\n",
        "    return '270'\n",
        "  else :\n",
        "    return '360'\n"
      ],
      "metadata": {
        "id": "z-jY8I-Z7-Sz"
      },
      "execution_count": null,
      "outputs": []
    },
    {
      "cell_type": "code",
      "source": [
        "df['length_of_job_search'] = df['length_of_job_search'].apply(summary_time)"
      ],
      "metadata": {
        "id": "LZf5xjQs7_Ts"
      },
      "execution_count": null,
      "outputs": []
    },
    {
      "cell_type": "code",
      "source": [
        "df['professional_experience'].value_counts()"
      ],
      "metadata": {
        "colab": {
          "base_uri": "https://localhost:8080/"
        },
        "id": "85TGkv0WvTaB",
        "outputId": "7af1df58-8c86-41c6-d4c6-154be60d5f7b"
      },
      "execution_count": null,
      "outputs": [
        {
          "output_type": "execute_result",
          "data": {
            "text/plain": [
              "1-2 years             327\n",
              "Less than one year    240\n",
              "3-4 years             227\n",
              "5+ years              107\n",
              "Name: professional_experience, dtype: int64"
            ]
          },
          "metadata": {},
          "execution_count": 42
        }
      ]
    },
    {
      "cell_type": "code",
      "source": [
        "def summary_year(x) :\n",
        "  if 'Less than one year' in str(x) :\n",
        "    return 360\n",
        "  elif '1-2 years' in str(x) :\n",
        "    return 540\n",
        "  elif '3-4 years' in str(x) :\n",
        "    return 1260\n",
        "  else :\n",
        "    return 1800"
      ],
      "metadata": {
        "id": "-pFkL8b6waBC"
      },
      "execution_count": null,
      "outputs": []
    },
    {
      "cell_type": "code",
      "source": [
        "df['professional_experience'] = df['professional_experience'].apply(summary_year)"
      ],
      "metadata": {
        "id": "NjQzM1Wt99Wg"
      },
      "execution_count": null,
      "outputs": []
    },
    {
      "cell_type": "code",
      "source": [
        "df['professional_experience'].value_counts()"
      ],
      "metadata": {
        "colab": {
          "base_uri": "https://localhost:8080/"
        },
        "id": "X2RlQrbV2I_r",
        "outputId": "8e1111ed-ee27-4f97-b667-83fcc05771a3"
      },
      "execution_count": null,
      "outputs": [
        {
          "output_type": "execute_result",
          "data": {
            "text/plain": [
              "540     327\n",
              "360     240\n",
              "1260    227\n",
              "1800    162\n",
              "Name: professional_experience, dtype: int64"
            ]
          },
          "metadata": {},
          "execution_count": 45
        }
      ]
    },
    {
      "cell_type": "code",
      "source": [
        "df['program_duration_days'].fillna('missing value' , inplace = True)"
      ],
      "metadata": {
        "id": "jzhXPYKQGOiv"
      },
      "execution_count": null,
      "outputs": []
    },
    {
      "cell_type": "code",
      "source": [
        "df = df[df['program_duration_days'] != 'missing value']"
      ],
      "metadata": {
        "id": "lO8KdXYENPwN"
      },
      "execution_count": null,
      "outputs": []
    },
    {
      "cell_type": "code",
      "source": [
        "df['program_duration_days'].info()"
      ],
      "metadata": {
        "colab": {
          "base_uri": "https://localhost:8080/"
        },
        "id": "hey7wuJEZIiY",
        "outputId": "b909db0b-3ae4-48e6-8361-3173ed5d6707"
      },
      "execution_count": null,
      "outputs": [
        {
          "output_type": "stream",
          "name": "stdout",
          "text": [
            "<class 'pandas.core.series.Series'>\n",
            "Int64Index: 956 entries, 4 to 2534\n",
            "Series name: program_duration_days\n",
            "Non-Null Count  Dtype  \n",
            "--------------  -----  \n",
            "956 non-null    float64\n",
            "dtypes: float64(1)\n",
            "memory usage: 14.9 KB\n"
          ]
        }
      ]
    },
    {
      "cell_type": "code",
      "source": [
        "df['program_duration_days'].value_counts()"
      ],
      "metadata": {
        "colab": {
          "base_uri": "https://localhost:8080/"
        },
        "id": "PDxQQdirPRZT",
        "outputId": "b7ff3154-e19c-4988-8e1b-d6a9e2649695"
      },
      "execution_count": null,
      "outputs": [
        {
          "output_type": "execute_result",
          "data": {
            "text/plain": [
              "73.0     10\n",
              "59.0     10\n",
              "115.0     9\n",
              "145.0     8\n",
              "94.0      8\n",
              "         ..\n",
              "235.0     1\n",
              "152.0     1\n",
              "395.0     1\n",
              "419.0     1\n",
              "306.0     1\n",
              "Name: program_duration_days, Length: 332, dtype: int64"
            ]
          },
          "metadata": {},
          "execution_count": 66
        }
      ]
    },
    {
      "cell_type": "code",
      "source": [
        "def program_duration(x):\n",
        "  if 0<x<31 :\n",
        "    return 30\n",
        "  elif 30<x<101 :\n",
        "    return 65\n",
        "  elif 100<x<301 :\n",
        "    return 200\n",
        "  elif 300<x<500 :\n",
        "    return 400\n",
        "  else :\n",
        "    return 500"
      ],
      "metadata": {
        "id": "-31R8yb95B9d"
      },
      "execution_count": null,
      "outputs": []
    },
    {
      "cell_type": "code",
      "source": [
        "df['program_duration_days'] = df['program_duration_days'].apply(program_duration)"
      ],
      "metadata": {
        "id": "eAxXmLSw6E57"
      },
      "execution_count": null,
      "outputs": []
    },
    {
      "cell_type": "code",
      "source": [
        "df['program_duration_days'].value_counts()"
      ],
      "metadata": {
        "colab": {
          "base_uri": "https://localhost:8080/"
        },
        "id": "fu7gOd1KSa1U",
        "outputId": "458ff534-0504-465d-a61e-786f26ffbd1a"
      },
      "execution_count": null,
      "outputs": [
        {
          "output_type": "execute_result",
          "data": {
            "text/plain": [
              "200    523\n",
              "65     268\n",
              "400    106\n",
              "30      55\n",
              "500      4\n",
              "Name: program_duration_days, dtype: int64"
            ]
          },
          "metadata": {},
          "execution_count": 152
        }
      ]
    },
    {
      "cell_type": "code",
      "source": [
        "df = df[df['work_authorization_status'] != 'Not Authorized']"
      ],
      "metadata": {
        "id": "aglNsxpHBiXQ"
      },
      "execution_count": null,
      "outputs": []
    },
    {
      "cell_type": "code",
      "source": [
        "df['work_authorization_status'].fillna('missing value' , inplace = True)"
      ],
      "metadata": {
        "id": "QzzBKZKDFP8w"
      },
      "execution_count": null,
      "outputs": []
    },
    {
      "cell_type": "code",
      "source": [
        "df['work_authorization_status'].value_counts()"
      ],
      "metadata": {
        "colab": {
          "base_uri": "https://localhost:8080/"
        },
        "id": "oVpb8GH-CO6l",
        "outputId": "be835b96-0050-4cb7-c0ac-05ef3d07ca71"
      },
      "execution_count": null,
      "outputs": [
        {
          "output_type": "execute_result",
          "data": {
            "text/plain": [
              "Citizen           395\n",
              "F1 Visa/OPT       222\n",
              "missing value     125\n",
              "Green Card         68\n",
              "Other              41\n",
              "F1 Visa/CPT        40\n",
              "H1B                11\n",
              "Canada Citizen      8\n",
              "STEM OPT            2\n",
              "Name: work_authorization_status, dtype: int64"
            ]
          },
          "metadata": {},
          "execution_count": 30
        }
      ]
    },
    {
      "cell_type": "code",
      "source": [
        "def work_permit(x):\n",
        "  if ('Citizen' in str(x)) or ('Green Card' in str(x)) or('Canada Citizen' in str(x)) :\n",
        "    return 'permanent'\n",
        "  elif 'F1 Visa/OPT' or 'F1 Visa/CPT' in str(x) :\n",
        "    return 'F1'\n",
        "  else :\n",
        "    return 'other'"
      ],
      "metadata": {
        "id": "yfTMv8D4aKCY"
      },
      "execution_count": null,
      "outputs": []
    },
    {
      "cell_type": "code",
      "source": [
        "df['work_authorization_status']=df['work_authorization_status'].apply(work_permit)"
      ],
      "metadata": {
        "id": "Xv9gOy8HaKGJ"
      },
      "execution_count": null,
      "outputs": []
    },
    {
      "cell_type": "code",
      "source": [
        "from pandas.core.algorithms import value_counts\n",
        "df['work_authorization_status'].value_counts()"
      ],
      "metadata": {
        "colab": {
          "base_uri": "https://localhost:8080/"
        },
        "id": "LjwKFgoXbkbP",
        "outputId": "c8838d1c-2533-4d90-fa9d-2ef630b63da3"
      },
      "execution_count": null,
      "outputs": [
        {
          "output_type": "execute_result",
          "data": {
            "text/plain": [
              "permanent    494\n",
              "F1           462\n",
              "Name: work_authorization_status, dtype: int64"
            ]
          },
          "metadata": {},
          "execution_count": 75
        }
      ]
    },
    {
      "cell_type": "code",
      "source": [
        "df['primary_track'].value_counts()"
      ],
      "metadata": {
        "colab": {
          "base_uri": "https://localhost:8080/"
        },
        "id": "242m0np9y1Kl",
        "outputId": "310d4210-1de5-4a3d-82a4-14065b7363e3"
      },
      "execution_count": null,
      "outputs": [
        {
          "output_type": "execute_result",
          "data": {
            "text/plain": [
              "SWE          636\n",
              "Design        85\n",
              "Data          79\n",
              "PSO           73\n",
              "Web            1\n",
              "Marketing      1\n",
              "Name: primary_track, dtype: int64"
            ]
          },
          "metadata": {},
          "execution_count": 38
        }
      ]
    },
    {
      "cell_type": "code",
      "source": [
        "df['highest_level_of_education'].value_counts()"
      ],
      "metadata": {
        "colab": {
          "base_uri": "https://localhost:8080/"
        },
        "id": "XMZXmoZPDWQp",
        "outputId": "73956de2-54ce-43cb-b045-f4d9860fec2e"
      },
      "execution_count": null,
      "outputs": [
        {
          "output_type": "execute_result",
          "data": {
            "text/plain": [
              "Bachelor's Degree                   524\n",
              "Master's Degree                     288\n",
              "Doctorate or Professional Degree     59\n",
              "Some College, No Degree              50\n",
              "High School Graduate                 10\n",
              "GED or equivalent                     5\n",
              "Some High School                      4\n",
              "Name: highest_level_of_education, dtype: int64"
            ]
          },
          "metadata": {},
          "execution_count": 76
        }
      ]
    },
    {
      "cell_type": "code",
      "source": [
        "df['highest_level_of_education'].fillna('missing value' , inplace = True)"
      ],
      "metadata": {
        "id": "8Eo8mIa7DYOi"
      },
      "execution_count": null,
      "outputs": []
    },
    {
      "cell_type": "code",
      "source": [
        "df['highest_level_of_education'].value_counts()"
      ],
      "metadata": {
        "colab": {
          "base_uri": "https://localhost:8080/"
        },
        "id": "THiQw49beTD_",
        "outputId": "ffd4616d-004f-4143-e64b-88addfbc1769"
      },
      "execution_count": null,
      "outputs": [
        {
          "output_type": "execute_result",
          "data": {
            "text/plain": [
              "Bachelor's Degree                   524\n",
              "Master's Degree                     288\n",
              "Doctorate or Professional Degree     59\n",
              "Some College, No Degree              50\n",
              "missing value                        16\n",
              "High School Graduate                 10\n",
              "GED or equivalent                     5\n",
              "Some High School                      4\n",
              "Name: highest_level_of_education, dtype: int64"
            ]
          },
          "metadata": {},
          "execution_count": 81
        }
      ]
    },
    {
      "cell_type": "code",
      "source": [
        "def degree_organizer(x):\n",
        "  if 'Bachelor' in str(x) :\n",
        "    return 'BC'\n",
        "  elif 'Master' in str(x) :\n",
        "    return 'MS'\n",
        "  elif ('Doctorate' in str(x)) or ('Professional' in str(x)) :\n",
        "    return 'PHD'\n",
        "  elif ('College' in str(x)) or ('No Degree' in str(x)) :\n",
        "    return 'College Degree'\n",
        "  else :\n",
        "    return 'other'"
      ],
      "metadata": {
        "id": "wHD_1TPzeohJ"
      },
      "execution_count": null,
      "outputs": []
    },
    {
      "cell_type": "code",
      "source": [
        "df['highest_level_of_education'].apply(degree_organizer)"
      ],
      "metadata": {
        "colab": {
          "base_uri": "https://localhost:8080/"
        },
        "id": "d3v1NRiAev5o",
        "outputId": "27371eb9-8d4f-4846-ab87-dc55c7f0cd1b"
      },
      "execution_count": null,
      "outputs": [
        {
          "output_type": "execute_result",
          "data": {
            "text/plain": [
              "4        BC\n",
              "23       MS\n",
              "30       MS\n",
              "39       MS\n",
              "54       MS\n",
              "       ... \n",
              "2527     BC\n",
              "2528    PHD\n",
              "2531    PHD\n",
              "2533     BC\n",
              "2534     BC\n",
              "Name: highest_level_of_education, Length: 956, dtype: object"
            ]
          },
          "metadata": {},
          "execution_count": 80
        }
      ]
    },
    {
      "cell_type": "code",
      "source": [
        "df.info()"
      ],
      "metadata": {
        "colab": {
          "base_uri": "https://localhost:8080/"
        },
        "id": "WaXj8KJbmKrF",
        "outputId": "1a1bfc7f-607e-4663-c0ff-0226c1346620"
      },
      "execution_count": null,
      "outputs": [
        {
          "output_type": "stream",
          "name": "stdout",
          "text": [
            "<class 'pandas.core.frame.DataFrame'>\n",
            "Int64Index: 956 entries, 4 to 2534\n",
            "Data columns (total 16 columns):\n",
            " #   Column                       Non-Null Count  Dtype  \n",
            "---  ------                       --------------  -----  \n",
            " 0   id                           956 non-null    int64  \n",
            " 1   pathrise_status              956 non-null    object \n",
            " 2   primary_track                956 non-null    object \n",
            " 3   cohort_tag                   954 non-null    object \n",
            " 4   program_duration_days        956 non-null    int64  \n",
            " 5   placed                       956 non-null    int64  \n",
            " 6   employment_status            956 non-null    object \n",
            " 7   highest_level_of_education   956 non-null    object \n",
            " 8   length_of_job_search         919 non-null    object \n",
            " 9   biggest_challenge_in_search  941 non-null    object \n",
            " 10  professional_experience      956 non-null    int64  \n",
            " 11  work_authorization_status    956 non-null    object \n",
            " 12  number_of_interviews         877 non-null    float64\n",
            " 13  number_of_applications       956 non-null    int64  \n",
            " 14  gender                       806 non-null    object \n",
            " 15  race                         950 non-null    object \n",
            "dtypes: float64(1), int64(5), object(10)\n",
            "memory usage: 127.0+ KB\n"
          ]
        }
      ]
    },
    {
      "cell_type": "code",
      "source": [
        "df['employment_status ']"
      ],
      "metadata": {
        "colab": {
          "base_uri": "https://localhost:8080/"
        },
        "id": "qtnuQV87msRy",
        "outputId": "b5384670-1ef5-4cc3-81f2-4e0d92bb50ff"
      },
      "execution_count": null,
      "outputs": [
        {
          "output_type": "execute_result",
          "data": {
            "text/plain": [
              "4               Unemployed\n",
              "23              Unemployed\n",
              "30                 Student\n",
              "39      Employed Full-Time\n",
              "54                 Student\n",
              "               ...        \n",
              "2527               Student\n",
              "2528               Student\n",
              "2531            Unemployed\n",
              "2533         missing value\n",
              "2534    Employed Full-Time\n",
              "Name: employment_status , Length: 956, dtype: object"
            ]
          },
          "metadata": {},
          "execution_count": 113
        }
      ]
    },
    {
      "cell_type": "code",
      "source": [
        "df['employment_status '].fillna('missing value', inplace = True)"
      ],
      "metadata": {
        "id": "Y2q1iNWjnFwF"
      },
      "execution_count": null,
      "outputs": []
    },
    {
      "cell_type": "code",
      "source": [
        "def employee(x):\n",
        "  if 'Student' in str(x) :\n",
        "    return 'Student'\n",
        "  elif 'Unemployed' in str(x) :\n",
        "    return 'Unemployed'\n",
        "  elif ('Employed Full-Time' in str(x)) or ('Employed Part-Time' in str(x)) or ('Contractor' in str(x)):\n",
        "    return 'Employed'\n",
        "  else :\n",
        "    return 'other'"
      ],
      "metadata": {
        "id": "ZxUeqAFdm3Sn"
      },
      "execution_count": null,
      "outputs": []
    },
    {
      "cell_type": "code",
      "source": [
        "df['employment_status '] = df['employment_status '].apply(employee)"
      ],
      "metadata": {
        "id": "bNHDCNoVnaR-"
      },
      "execution_count": null,
      "outputs": []
    },
    {
      "cell_type": "code",
      "source": [
        "df['employment_status '].value_counts()"
      ],
      "metadata": {
        "colab": {
          "base_uri": "https://localhost:8080/"
        },
        "id": "4hSwzGy3n_7l",
        "outputId": "94048c0a-d27e-474b-a5cc-62cbbecfffb5"
      },
      "execution_count": null,
      "outputs": [
        {
          "output_type": "execute_result",
          "data": {
            "text/plain": [
              "Employed      318\n",
              "Student       286\n",
              "Unemployed    253\n",
              "other          99\n",
              "Name: employment_status , dtype: int64"
            ]
          },
          "metadata": {},
          "execution_count": 117
        }
      ]
    },
    {
      "cell_type": "code",
      "source": [
        "cleaned_df = df[['primary_track','program_duration_days','employment_status ',\n",
        "'highest_level_of_education', 'professional_experience']]"
      ],
      "metadata": {
        "id": "u6-NI5LfEpM4"
      },
      "execution_count": null,
      "outputs": []
    },
    {
      "cell_type": "code",
      "source": [
        "cleaned_df.info()"
      ],
      "metadata": {
        "id": "F0O9PVUzHO4t",
        "colab": {
          "base_uri": "https://localhost:8080/"
        },
        "outputId": "bbd14be2-b066-4849-cca3-0472427a06c5"
      },
      "execution_count": null,
      "outputs": [
        {
          "output_type": "stream",
          "name": "stdout",
          "text": [
            "<class 'pandas.core.frame.DataFrame'>\n",
            "Int64Index: 956 entries, 4 to 2534\n",
            "Data columns (total 5 columns):\n",
            " #   Column                      Non-Null Count  Dtype \n",
            "---  ------                      --------------  ----- \n",
            " 0   primary_track               956 non-null    object\n",
            " 1   program_duration_days       956 non-null    int64 \n",
            " 2   employment_status           956 non-null    object\n",
            " 3   highest_level_of_education  956 non-null    object\n",
            " 4   professional_experience     956 non-null    int64 \n",
            "dtypes: int64(2), object(3)\n",
            "memory usage: 44.8+ KB\n"
          ]
        }
      ]
    },
    {
      "cell_type": "code",
      "source": [
        "preprocessed_df = pd.get_dummies(cleaned_df,columns = ['primary_track','employment_status ' , 'highest_level_of_education'])"
      ],
      "metadata": {
        "id": "iWgWXmCGmibd"
      },
      "execution_count": null,
      "outputs": []
    },
    {
      "cell_type": "code",
      "source": [
        "preprocessed_df.head()"
      ],
      "metadata": {
        "colab": {
          "base_uri": "https://localhost:8080/",
          "height": 243
        },
        "id": "LRbdfdcazhy8",
        "outputId": "06dd3b25-c70c-4a6f-9cdb-5313b3fad14b"
      },
      "execution_count": null,
      "outputs": [
        {
          "output_type": "execute_result",
          "data": {
            "text/plain": [
              "    program_duration_days  professional_experience  primary_track_Data  \\\n",
              "4                      65                      540                   0   \n",
              "23                    200                      540                   0   \n",
              "30                     65                      540                   0   \n",
              "39                     65                     1800                   0   \n",
              "54                     65                     1260                   0   \n",
              "\n",
              "    primary_track_Design  primary_track_Marketing  primary_track_PSO  \\\n",
              "4                      0                        0                  0   \n",
              "23                     0                        0                  1   \n",
              "30                     0                        0                  0   \n",
              "39                     0                        0                  0   \n",
              "54                     0                        0                  0   \n",
              "\n",
              "    primary_track_SWE  primary_track_Web  employment_status _Employed  \\\n",
              "4                   1                  0                            0   \n",
              "23                  0                  0                            0   \n",
              "30                  1                  0                            0   \n",
              "39                  1                  0                            1   \n",
              "54                  1                  0                            0   \n",
              "\n",
              "    employment_status _Student  employment_status _Unemployed  \\\n",
              "4                            0                              1   \n",
              "23                           0                              1   \n",
              "30                           1                              0   \n",
              "39                           0                              0   \n",
              "54                           1                              0   \n",
              "\n",
              "    employment_status _other  highest_level_of_education_Bachelor's Degree  \\\n",
              "4                          0                                             1   \n",
              "23                         0                                             0   \n",
              "30                         0                                             0   \n",
              "39                         0                                             0   \n",
              "54                         0                                             0   \n",
              "\n",
              "    highest_level_of_education_Doctorate or Professional Degree  \\\n",
              "4                                                   0             \n",
              "23                                                  0             \n",
              "30                                                  0             \n",
              "39                                                  0             \n",
              "54                                                  0             \n",
              "\n",
              "    highest_level_of_education_GED or equivalent  \\\n",
              "4                                              0   \n",
              "23                                             0   \n",
              "30                                             0   \n",
              "39                                             0   \n",
              "54                                             0   \n",
              "\n",
              "    highest_level_of_education_High School Graduate  \\\n",
              "4                                                 0   \n",
              "23                                                0   \n",
              "30                                                0   \n",
              "39                                                0   \n",
              "54                                                0   \n",
              "\n",
              "    highest_level_of_education_Master's Degree  \\\n",
              "4                                            0   \n",
              "23                                           1   \n",
              "30                                           1   \n",
              "39                                           1   \n",
              "54                                           1   \n",
              "\n",
              "    highest_level_of_education_Some College, No Degree  \\\n",
              "4                                                   0    \n",
              "23                                                  0    \n",
              "30                                                  0    \n",
              "39                                                  0    \n",
              "54                                                  0    \n",
              "\n",
              "    highest_level_of_education_Some High School  \\\n",
              "4                                             0   \n",
              "23                                            0   \n",
              "30                                            0   \n",
              "39                                            0   \n",
              "54                                            0   \n",
              "\n",
              "    highest_level_of_education_missing value  \n",
              "4                                          0  \n",
              "23                                         0  \n",
              "30                                         0  \n",
              "39                                         0  \n",
              "54                                         0  "
            ],
            "text/html": [
              "\n",
              "  <div id=\"df-f3e0204a-2132-476c-a966-d9e931667b81\" class=\"colab-df-container\">\n",
              "    <div>\n",
              "<style scoped>\n",
              "    .dataframe tbody tr th:only-of-type {\n",
              "        vertical-align: middle;\n",
              "    }\n",
              "\n",
              "    .dataframe tbody tr th {\n",
              "        vertical-align: top;\n",
              "    }\n",
              "\n",
              "    .dataframe thead th {\n",
              "        text-align: right;\n",
              "    }\n",
              "</style>\n",
              "<table border=\"1\" class=\"dataframe\">\n",
              "  <thead>\n",
              "    <tr style=\"text-align: right;\">\n",
              "      <th></th>\n",
              "      <th>program_duration_days</th>\n",
              "      <th>professional_experience</th>\n",
              "      <th>primary_track_Data</th>\n",
              "      <th>primary_track_Design</th>\n",
              "      <th>primary_track_Marketing</th>\n",
              "      <th>primary_track_PSO</th>\n",
              "      <th>primary_track_SWE</th>\n",
              "      <th>primary_track_Web</th>\n",
              "      <th>employment_status _Employed</th>\n",
              "      <th>employment_status _Student</th>\n",
              "      <th>employment_status _Unemployed</th>\n",
              "      <th>employment_status _other</th>\n",
              "      <th>highest_level_of_education_Bachelor's Degree</th>\n",
              "      <th>highest_level_of_education_Doctorate or Professional Degree</th>\n",
              "      <th>highest_level_of_education_GED or equivalent</th>\n",
              "      <th>highest_level_of_education_High School Graduate</th>\n",
              "      <th>highest_level_of_education_Master's Degree</th>\n",
              "      <th>highest_level_of_education_Some College, No Degree</th>\n",
              "      <th>highest_level_of_education_Some High School</th>\n",
              "      <th>highest_level_of_education_missing value</th>\n",
              "    </tr>\n",
              "  </thead>\n",
              "  <tbody>\n",
              "    <tr>\n",
              "      <th>4</th>\n",
              "      <td>65</td>\n",
              "      <td>540</td>\n",
              "      <td>0</td>\n",
              "      <td>0</td>\n",
              "      <td>0</td>\n",
              "      <td>0</td>\n",
              "      <td>1</td>\n",
              "      <td>0</td>\n",
              "      <td>0</td>\n",
              "      <td>0</td>\n",
              "      <td>1</td>\n",
              "      <td>0</td>\n",
              "      <td>1</td>\n",
              "      <td>0</td>\n",
              "      <td>0</td>\n",
              "      <td>0</td>\n",
              "      <td>0</td>\n",
              "      <td>0</td>\n",
              "      <td>0</td>\n",
              "      <td>0</td>\n",
              "    </tr>\n",
              "    <tr>\n",
              "      <th>23</th>\n",
              "      <td>200</td>\n",
              "      <td>540</td>\n",
              "      <td>0</td>\n",
              "      <td>0</td>\n",
              "      <td>0</td>\n",
              "      <td>1</td>\n",
              "      <td>0</td>\n",
              "      <td>0</td>\n",
              "      <td>0</td>\n",
              "      <td>0</td>\n",
              "      <td>1</td>\n",
              "      <td>0</td>\n",
              "      <td>0</td>\n",
              "      <td>0</td>\n",
              "      <td>0</td>\n",
              "      <td>0</td>\n",
              "      <td>1</td>\n",
              "      <td>0</td>\n",
              "      <td>0</td>\n",
              "      <td>0</td>\n",
              "    </tr>\n",
              "    <tr>\n",
              "      <th>30</th>\n",
              "      <td>65</td>\n",
              "      <td>540</td>\n",
              "      <td>0</td>\n",
              "      <td>0</td>\n",
              "      <td>0</td>\n",
              "      <td>0</td>\n",
              "      <td>1</td>\n",
              "      <td>0</td>\n",
              "      <td>0</td>\n",
              "      <td>1</td>\n",
              "      <td>0</td>\n",
              "      <td>0</td>\n",
              "      <td>0</td>\n",
              "      <td>0</td>\n",
              "      <td>0</td>\n",
              "      <td>0</td>\n",
              "      <td>1</td>\n",
              "      <td>0</td>\n",
              "      <td>0</td>\n",
              "      <td>0</td>\n",
              "    </tr>\n",
              "    <tr>\n",
              "      <th>39</th>\n",
              "      <td>65</td>\n",
              "      <td>1800</td>\n",
              "      <td>0</td>\n",
              "      <td>0</td>\n",
              "      <td>0</td>\n",
              "      <td>0</td>\n",
              "      <td>1</td>\n",
              "      <td>0</td>\n",
              "      <td>1</td>\n",
              "      <td>0</td>\n",
              "      <td>0</td>\n",
              "      <td>0</td>\n",
              "      <td>0</td>\n",
              "      <td>0</td>\n",
              "      <td>0</td>\n",
              "      <td>0</td>\n",
              "      <td>1</td>\n",
              "      <td>0</td>\n",
              "      <td>0</td>\n",
              "      <td>0</td>\n",
              "    </tr>\n",
              "    <tr>\n",
              "      <th>54</th>\n",
              "      <td>65</td>\n",
              "      <td>1260</td>\n",
              "      <td>0</td>\n",
              "      <td>0</td>\n",
              "      <td>0</td>\n",
              "      <td>0</td>\n",
              "      <td>1</td>\n",
              "      <td>0</td>\n",
              "      <td>0</td>\n",
              "      <td>1</td>\n",
              "      <td>0</td>\n",
              "      <td>0</td>\n",
              "      <td>0</td>\n",
              "      <td>0</td>\n",
              "      <td>0</td>\n",
              "      <td>0</td>\n",
              "      <td>1</td>\n",
              "      <td>0</td>\n",
              "      <td>0</td>\n",
              "      <td>0</td>\n",
              "    </tr>\n",
              "  </tbody>\n",
              "</table>\n",
              "</div>\n",
              "    <div class=\"colab-df-buttons\">\n",
              "\n",
              "  <div class=\"colab-df-container\">\n",
              "    <button class=\"colab-df-convert\" onclick=\"convertToInteractive('df-f3e0204a-2132-476c-a966-d9e931667b81')\"\n",
              "            title=\"Convert this dataframe to an interactive table.\"\n",
              "            style=\"display:none;\">\n",
              "\n",
              "  <svg xmlns=\"http://www.w3.org/2000/svg\" height=\"24px\" viewBox=\"0 -960 960 960\">\n",
              "    <path d=\"M120-120v-720h720v720H120Zm60-500h600v-160H180v160Zm220 220h160v-160H400v160Zm0 220h160v-160H400v160ZM180-400h160v-160H180v160Zm440 0h160v-160H620v160ZM180-180h160v-160H180v160Zm440 0h160v-160H620v160Z\"/>\n",
              "  </svg>\n",
              "    </button>\n",
              "\n",
              "  <style>\n",
              "    .colab-df-container {\n",
              "      display:flex;\n",
              "      gap: 12px;\n",
              "    }\n",
              "\n",
              "    .colab-df-convert {\n",
              "      background-color: #E8F0FE;\n",
              "      border: none;\n",
              "      border-radius: 50%;\n",
              "      cursor: pointer;\n",
              "      display: none;\n",
              "      fill: #1967D2;\n",
              "      height: 32px;\n",
              "      padding: 0 0 0 0;\n",
              "      width: 32px;\n",
              "    }\n",
              "\n",
              "    .colab-df-convert:hover {\n",
              "      background-color: #E2EBFA;\n",
              "      box-shadow: 0px 1px 2px rgba(60, 64, 67, 0.3), 0px 1px 3px 1px rgba(60, 64, 67, 0.15);\n",
              "      fill: #174EA6;\n",
              "    }\n",
              "\n",
              "    .colab-df-buttons div {\n",
              "      margin-bottom: 4px;\n",
              "    }\n",
              "\n",
              "    [theme=dark] .colab-df-convert {\n",
              "      background-color: #3B4455;\n",
              "      fill: #D2E3FC;\n",
              "    }\n",
              "\n",
              "    [theme=dark] .colab-df-convert:hover {\n",
              "      background-color: #434B5C;\n",
              "      box-shadow: 0px 1px 3px 1px rgba(0, 0, 0, 0.15);\n",
              "      filter: drop-shadow(0px 1px 2px rgba(0, 0, 0, 0.3));\n",
              "      fill: #FFFFFF;\n",
              "    }\n",
              "  </style>\n",
              "\n",
              "    <script>\n",
              "      const buttonEl =\n",
              "        document.querySelector('#df-f3e0204a-2132-476c-a966-d9e931667b81 button.colab-df-convert');\n",
              "      buttonEl.style.display =\n",
              "        google.colab.kernel.accessAllowed ? 'block' : 'none';\n",
              "\n",
              "      async function convertToInteractive(key) {\n",
              "        const element = document.querySelector('#df-f3e0204a-2132-476c-a966-d9e931667b81');\n",
              "        const dataTable =\n",
              "          await google.colab.kernel.invokeFunction('convertToInteractive',\n",
              "                                                    [key], {});\n",
              "        if (!dataTable) return;\n",
              "\n",
              "        const docLinkHtml = 'Like what you see? Visit the ' +\n",
              "          '<a target=\"_blank\" href=https://colab.research.google.com/notebooks/data_table.ipynb>data table notebook</a>'\n",
              "          + ' to learn more about interactive tables.';\n",
              "        element.innerHTML = '';\n",
              "        dataTable['output_type'] = 'display_data';\n",
              "        await google.colab.output.renderOutput(dataTable, element);\n",
              "        const docLink = document.createElement('div');\n",
              "        docLink.innerHTML = docLinkHtml;\n",
              "        element.appendChild(docLink);\n",
              "      }\n",
              "    </script>\n",
              "  </div>\n",
              "\n",
              "\n",
              "<div id=\"df-ac836cc1-1e57-4fca-90d5-c62b59a802f6\">\n",
              "  <button class=\"colab-df-quickchart\" onclick=\"quickchart('df-ac836cc1-1e57-4fca-90d5-c62b59a802f6')\"\n",
              "            title=\"Suggest charts\"\n",
              "            style=\"display:none;\">\n",
              "\n",
              "<svg xmlns=\"http://www.w3.org/2000/svg\" height=\"24px\"viewBox=\"0 0 24 24\"\n",
              "     width=\"24px\">\n",
              "    <g>\n",
              "        <path d=\"M19 3H5c-1.1 0-2 .9-2 2v14c0 1.1.9 2 2 2h14c1.1 0 2-.9 2-2V5c0-1.1-.9-2-2-2zM9 17H7v-7h2v7zm4 0h-2V7h2v10zm4 0h-2v-4h2v4z\"/>\n",
              "    </g>\n",
              "</svg>\n",
              "  </button>\n",
              "\n",
              "<style>\n",
              "  .colab-df-quickchart {\n",
              "      --bg-color: #E8F0FE;\n",
              "      --fill-color: #1967D2;\n",
              "      --hover-bg-color: #E2EBFA;\n",
              "      --hover-fill-color: #174EA6;\n",
              "      --disabled-fill-color: #AAA;\n",
              "      --disabled-bg-color: #DDD;\n",
              "  }\n",
              "\n",
              "  [theme=dark] .colab-df-quickchart {\n",
              "      --bg-color: #3B4455;\n",
              "      --fill-color: #D2E3FC;\n",
              "      --hover-bg-color: #434B5C;\n",
              "      --hover-fill-color: #FFFFFF;\n",
              "      --disabled-bg-color: #3B4455;\n",
              "      --disabled-fill-color: #666;\n",
              "  }\n",
              "\n",
              "  .colab-df-quickchart {\n",
              "    background-color: var(--bg-color);\n",
              "    border: none;\n",
              "    border-radius: 50%;\n",
              "    cursor: pointer;\n",
              "    display: none;\n",
              "    fill: var(--fill-color);\n",
              "    height: 32px;\n",
              "    padding: 0;\n",
              "    width: 32px;\n",
              "  }\n",
              "\n",
              "  .colab-df-quickchart:hover {\n",
              "    background-color: var(--hover-bg-color);\n",
              "    box-shadow: 0 1px 2px rgba(60, 64, 67, 0.3), 0 1px 3px 1px rgba(60, 64, 67, 0.15);\n",
              "    fill: var(--button-hover-fill-color);\n",
              "  }\n",
              "\n",
              "  .colab-df-quickchart-complete:disabled,\n",
              "  .colab-df-quickchart-complete:disabled:hover {\n",
              "    background-color: var(--disabled-bg-color);\n",
              "    fill: var(--disabled-fill-color);\n",
              "    box-shadow: none;\n",
              "  }\n",
              "\n",
              "  .colab-df-spinner {\n",
              "    border: 2px solid var(--fill-color);\n",
              "    border-color: transparent;\n",
              "    border-bottom-color: var(--fill-color);\n",
              "    animation:\n",
              "      spin 1s steps(1) infinite;\n",
              "  }\n",
              "\n",
              "  @keyframes spin {\n",
              "    0% {\n",
              "      border-color: transparent;\n",
              "      border-bottom-color: var(--fill-color);\n",
              "      border-left-color: var(--fill-color);\n",
              "    }\n",
              "    20% {\n",
              "      border-color: transparent;\n",
              "      border-left-color: var(--fill-color);\n",
              "      border-top-color: var(--fill-color);\n",
              "    }\n",
              "    30% {\n",
              "      border-color: transparent;\n",
              "      border-left-color: var(--fill-color);\n",
              "      border-top-color: var(--fill-color);\n",
              "      border-right-color: var(--fill-color);\n",
              "    }\n",
              "    40% {\n",
              "      border-color: transparent;\n",
              "      border-right-color: var(--fill-color);\n",
              "      border-top-color: var(--fill-color);\n",
              "    }\n",
              "    60% {\n",
              "      border-color: transparent;\n",
              "      border-right-color: var(--fill-color);\n",
              "    }\n",
              "    80% {\n",
              "      border-color: transparent;\n",
              "      border-right-color: var(--fill-color);\n",
              "      border-bottom-color: var(--fill-color);\n",
              "    }\n",
              "    90% {\n",
              "      border-color: transparent;\n",
              "      border-bottom-color: var(--fill-color);\n",
              "    }\n",
              "  }\n",
              "</style>\n",
              "\n",
              "  <script>\n",
              "    async function quickchart(key) {\n",
              "      const quickchartButtonEl =\n",
              "        document.querySelector('#' + key + ' button');\n",
              "      quickchartButtonEl.disabled = true;  // To prevent multiple clicks.\n",
              "      quickchartButtonEl.classList.add('colab-df-spinner');\n",
              "      try {\n",
              "        const charts = await google.colab.kernel.invokeFunction(\n",
              "            'suggestCharts', [key], {});\n",
              "      } catch (error) {\n",
              "        console.error('Error during call to suggestCharts:', error);\n",
              "      }\n",
              "      quickchartButtonEl.classList.remove('colab-df-spinner');\n",
              "      quickchartButtonEl.classList.add('colab-df-quickchart-complete');\n",
              "    }\n",
              "    (() => {\n",
              "      let quickchartButtonEl =\n",
              "        document.querySelector('#df-ac836cc1-1e57-4fca-90d5-c62b59a802f6 button');\n",
              "      quickchartButtonEl.style.display =\n",
              "        google.colab.kernel.accessAllowed ? 'block' : 'none';\n",
              "    })();\n",
              "  </script>\n",
              "</div>\n",
              "    </div>\n",
              "  </div>\n"
            ]
          },
          "metadata": {},
          "execution_count": 166
        }
      ]
    },
    {
      "cell_type": "code",
      "source": [
        "preprocessed_df.info()"
      ],
      "metadata": {
        "colab": {
          "base_uri": "https://localhost:8080/"
        },
        "id": "1FzwJz_K2Tdq",
        "outputId": "e31d58ae-3d21-4d65-cf11-e0a570ae9540"
      },
      "execution_count": null,
      "outputs": [
        {
          "output_type": "stream",
          "name": "stdout",
          "text": [
            "<class 'pandas.core.frame.DataFrame'>\n",
            "Int64Index: 956 entries, 4 to 2534\n",
            "Data columns (total 20 columns):\n",
            " #   Column                                                       Non-Null Count  Dtype\n",
            "---  ------                                                       --------------  -----\n",
            " 0   program_duration_days                                        956 non-null    int64\n",
            " 1   professional_experience                                      956 non-null    int64\n",
            " 2   primary_track_Data                                           956 non-null    uint8\n",
            " 3   primary_track_Design                                         956 non-null    uint8\n",
            " 4   primary_track_Marketing                                      956 non-null    uint8\n",
            " 5   primary_track_PSO                                            956 non-null    uint8\n",
            " 6   primary_track_SWE                                            956 non-null    uint8\n",
            " 7   primary_track_Web                                            956 non-null    uint8\n",
            " 8   employment_status _Employed                                  956 non-null    uint8\n",
            " 9   employment_status _Student                                   956 non-null    uint8\n",
            " 10  employment_status _Unemployed                                956 non-null    uint8\n",
            " 11  employment_status _other                                     956 non-null    uint8\n",
            " 12  highest_level_of_education_Bachelor's Degree                 956 non-null    uint8\n",
            " 13  highest_level_of_education_Doctorate or Professional Degree  956 non-null    uint8\n",
            " 14  highest_level_of_education_GED or equivalent                 956 non-null    uint8\n",
            " 15  highest_level_of_education_High School Graduate              956 non-null    uint8\n",
            " 16  highest_level_of_education_Master's Degree                   956 non-null    uint8\n",
            " 17  highest_level_of_education_Some College, No Degree           956 non-null    uint8\n",
            " 18  highest_level_of_education_Some High School                  956 non-null    uint8\n",
            " 19  highest_level_of_education_missing value                     956 non-null    uint8\n",
            "dtypes: int64(2), uint8(18)\n",
            "memory usage: 39.2 KB\n"
          ]
        }
      ]
    },
    {
      "cell_type": "code",
      "source": [
        "x = preprocessed_df.drop(columns='program_duration_days')\n"
      ],
      "metadata": {
        "id": "_css3QBd4uRw"
      },
      "execution_count": null,
      "outputs": []
    },
    {
      "cell_type": "code",
      "source": [
        "y = preprocessed_df['program_duration_days']"
      ],
      "metadata": {
        "id": "zZi3xpW27GS2"
      },
      "execution_count": null,
      "outputs": []
    },
    {
      "cell_type": "code",
      "source": [
        "from sklearn.model_selection import train_test_split"
      ],
      "metadata": {
        "id": "3fg6HsMv_G21"
      },
      "execution_count": null,
      "outputs": []
    },
    {
      "cell_type": "code",
      "source": [
        "x_train , x_test , y_train , y_test = train_test_split(x,y, test_size=.3 , random_state=101)"
      ],
      "metadata": {
        "id": "IPIl-ANx_QFF"
      },
      "execution_count": null,
      "outputs": []
    },
    {
      "cell_type": "code",
      "source": [
        "from sklearn.linear_model import LinearRegression"
      ],
      "metadata": {
        "id": "s73YbnFf_ydV"
      },
      "execution_count": null,
      "outputs": []
    },
    {
      "cell_type": "code",
      "source": [
        "lr = LinearRegression()"
      ],
      "metadata": {
        "id": "sOAe58ARABOt"
      },
      "execution_count": null,
      "outputs": []
    },
    {
      "cell_type": "code",
      "source": [
        "lr.fit(x_train, y_train)"
      ],
      "metadata": {
        "colab": {
          "base_uri": "https://localhost:8080/",
          "height": 74
        },
        "id": "jS6g9DdxAEkK",
        "outputId": "a4998c8a-db66-488d-a292-5436b4388889"
      },
      "execution_count": null,
      "outputs": [
        {
          "output_type": "execute_result",
          "data": {
            "text/plain": [
              "LinearRegression()"
            ],
            "text/html": [
              "<style>#sk-container-id-1 {color: black;background-color: white;}#sk-container-id-1 pre{padding: 0;}#sk-container-id-1 div.sk-toggleable {background-color: white;}#sk-container-id-1 label.sk-toggleable__label {cursor: pointer;display: block;width: 100%;margin-bottom: 0;padding: 0.3em;box-sizing: border-box;text-align: center;}#sk-container-id-1 label.sk-toggleable__label-arrow:before {content: \"▸\";float: left;margin-right: 0.25em;color: #696969;}#sk-container-id-1 label.sk-toggleable__label-arrow:hover:before {color: black;}#sk-container-id-1 div.sk-estimator:hover label.sk-toggleable__label-arrow:before {color: black;}#sk-container-id-1 div.sk-toggleable__content {max-height: 0;max-width: 0;overflow: hidden;text-align: left;background-color: #f0f8ff;}#sk-container-id-1 div.sk-toggleable__content pre {margin: 0.2em;color: black;border-radius: 0.25em;background-color: #f0f8ff;}#sk-container-id-1 input.sk-toggleable__control:checked~div.sk-toggleable__content {max-height: 200px;max-width: 100%;overflow: auto;}#sk-container-id-1 input.sk-toggleable__control:checked~label.sk-toggleable__label-arrow:before {content: \"▾\";}#sk-container-id-1 div.sk-estimator input.sk-toggleable__control:checked~label.sk-toggleable__label {background-color: #d4ebff;}#sk-container-id-1 div.sk-label input.sk-toggleable__control:checked~label.sk-toggleable__label {background-color: #d4ebff;}#sk-container-id-1 input.sk-hidden--visually {border: 0;clip: rect(1px 1px 1px 1px);clip: rect(1px, 1px, 1px, 1px);height: 1px;margin: -1px;overflow: hidden;padding: 0;position: absolute;width: 1px;}#sk-container-id-1 div.sk-estimator {font-family: monospace;background-color: #f0f8ff;border: 1px dotted black;border-radius: 0.25em;box-sizing: border-box;margin-bottom: 0.5em;}#sk-container-id-1 div.sk-estimator:hover {background-color: #d4ebff;}#sk-container-id-1 div.sk-parallel-item::after {content: \"\";width: 100%;border-bottom: 1px solid gray;flex-grow: 1;}#sk-container-id-1 div.sk-label:hover label.sk-toggleable__label {background-color: #d4ebff;}#sk-container-id-1 div.sk-serial::before {content: \"\";position: absolute;border-left: 1px solid gray;box-sizing: border-box;top: 0;bottom: 0;left: 50%;z-index: 0;}#sk-container-id-1 div.sk-serial {display: flex;flex-direction: column;align-items: center;background-color: white;padding-right: 0.2em;padding-left: 0.2em;position: relative;}#sk-container-id-1 div.sk-item {position: relative;z-index: 1;}#sk-container-id-1 div.sk-parallel {display: flex;align-items: stretch;justify-content: center;background-color: white;position: relative;}#sk-container-id-1 div.sk-item::before, #sk-container-id-1 div.sk-parallel-item::before {content: \"\";position: absolute;border-left: 1px solid gray;box-sizing: border-box;top: 0;bottom: 0;left: 50%;z-index: -1;}#sk-container-id-1 div.sk-parallel-item {display: flex;flex-direction: column;z-index: 1;position: relative;background-color: white;}#sk-container-id-1 div.sk-parallel-item:first-child::after {align-self: flex-end;width: 50%;}#sk-container-id-1 div.sk-parallel-item:last-child::after {align-self: flex-start;width: 50%;}#sk-container-id-1 div.sk-parallel-item:only-child::after {width: 0;}#sk-container-id-1 div.sk-dashed-wrapped {border: 1px dashed gray;margin: 0 0.4em 0.5em 0.4em;box-sizing: border-box;padding-bottom: 0.4em;background-color: white;}#sk-container-id-1 div.sk-label label {font-family: monospace;font-weight: bold;display: inline-block;line-height: 1.2em;}#sk-container-id-1 div.sk-label-container {text-align: center;}#sk-container-id-1 div.sk-container {/* jupyter's `normalize.less` sets `[hidden] { display: none; }` but bootstrap.min.css set `[hidden] { display: none !important; }` so we also need the `!important` here to be able to override the default hidden behavior on the sphinx rendered scikit-learn.org. See: https://github.com/scikit-learn/scikit-learn/issues/21755 */display: inline-block !important;position: relative;}#sk-container-id-1 div.sk-text-repr-fallback {display: none;}</style><div id=\"sk-container-id-1\" class=\"sk-top-container\"><div class=\"sk-text-repr-fallback\"><pre>LinearRegression()</pre><b>In a Jupyter environment, please rerun this cell to show the HTML representation or trust the notebook. <br />On GitHub, the HTML representation is unable to render, please try loading this page with nbviewer.org.</b></div><div class=\"sk-container\" hidden><div class=\"sk-item\"><div class=\"sk-estimator sk-toggleable\"><input class=\"sk-toggleable__control sk-hidden--visually\" id=\"sk-estimator-id-1\" type=\"checkbox\" checked><label for=\"sk-estimator-id-1\" class=\"sk-toggleable__label sk-toggleable__label-arrow\">LinearRegression</label><div class=\"sk-toggleable__content\"><pre>LinearRegression()</pre></div></div></div></div></div>"
            ]
          },
          "metadata": {},
          "execution_count": 176
        }
      ]
    },
    {
      "cell_type": "code",
      "source": [
        "prediction = lr.predict(x_test)"
      ],
      "metadata": {
        "id": "8RhCFNj3ALsO"
      },
      "execution_count": null,
      "outputs": []
    },
    {
      "cell_type": "code",
      "source": [
        "prediction"
      ],
      "metadata": {
        "colab": {
          "base_uri": "https://localhost:8080/"
        },
        "id": "T-V7U9gAAipt",
        "outputId": "d98d31fc-dd87-4236-fe56-9bc319689fd0"
      },
      "execution_count": null,
      "outputs": [
        {
          "output_type": "execute_result",
          "data": {
            "text/plain": [
              "array([159.24844927, 181.19186335, 177.44277072, 153.67548199,\n",
              "       180.33938312, 180.33938312, 176.19769034, 181.5844635 ,\n",
              "       180.56258499, 127.60422662, 180.68288021, 179.43779983,\n",
              "       210.87643137, 177.44277072, 214.625524  , 176.19769034,\n",
              "       153.67548199, 187.68170054, 179.94678297, 179.10815422,\n",
              "       179.94678297, 176.54118743, 180.68288021, 181.5844635 ,\n",
              "       179.10815422, 160.49352965, 188.02519763, 185.19940942,\n",
              "       153.67548199, 175.29610705, 176.54118743, 179.10815422,\n",
              "       177.47884473, 171.21736882, 179.94678297, 179.94678297,\n",
              "       160.49352965, 184.08847575, 176.19769034, 170.72223717,\n",
              "       153.36654446, 170.72223717, 208.25810575, 214.625524  ,\n",
              "       184.80680926, 213.25500893, 174.45747831, 181.5844635 ,\n",
              "       149.53378921, 149.53378921, 178.30362199, 182.30877886,\n",
              "       153.67548199, 174.96646144, 158.53550829, 187.28311854,\n",
              "       171.2312203 , 159.24844927, 185.33355613, 179.43779983,\n",
              "       189.78713079, 186.45047165, 180.15613335, 171.62382045,\n",
              "       190.30976729, 166.58054438, 203.29436588, 179.10815422,\n",
              "       148.69516047, 171.2312203 , 167.48212767, 186.78011725,\n",
              "       180.33938312, 171.21736882,  75.87457677, 144.55346769,\n",
              "       176.56340996, 187.68170054, 180.33938312, 186.38153525,\n",
              "       167.48212767, 180.33938312, 176.19769034, 180.68288021,\n",
              "       186.1944074 , 232.02197727, 175.3590616 , 176.19769034,\n",
              "       204.65102947, 180.68288021, 150.77886959, 182.7152305 ,\n",
              "       158.53550829, 175.37291308, 170.31578553, 158.34686598,\n",
              "       165.10347355, 177.32247549, 171.2312203 , 153.67548199,\n",
              "       144.55346769, 176.19769034, 123.86898548, 179.43779983,\n",
              "       214.50522877, 175.3590616 , 192.68834484, 174.96646144,\n",
              "       178.96613788, 181.46416827, 180.33938312, 190.52322803,\n",
              "       174.0829701 , 188.02519763, 180.33938312, 174.96646144,\n",
              "       179.43779983, 181.5844635 , 171.62382045, 209.63135099,\n",
              "       208.7297677 , 179.43779983, 180.68288021, 191.43079317,\n",
              "       227.37130135, 203.74944618, 184.80680926, 170.72223717,\n",
              "       153.67548199, 211.10834526, 167.48212767, 180.68288021,\n",
              "       168.68647603, 167.48212767, 179.10815422, 185.33355613,\n",
              "       177.44277072, 176.54118743, 185.2132609 , 208.4001221 ,\n",
              "       181.5844635 , 179.10815422, 150.80109212, 178.96613788,\n",
              "       184.78508814, 179.10815422, 162.9975419 , 184.08847575,\n",
              "       177.44277072, 179.94678297, 176.54118743, 170.72223717,\n",
              "       174.45747831, 181.19186335, 179.94678297, 187.68170054,\n",
              "       180.68288021, 168.68647603, 189.27814765, 186.03803816,\n",
              "       176.19769034, 171.62382045, 183.54000776, 181.19186335,\n",
              "       159.47165114, 195.17390395, 161.35438092, 167.48212767,\n",
              "       140.81822655, 180.33938312, 174.45747831, 167.48212767,\n",
              "       140.81822655, 154.92056237, 175.3590616 , 180.68288021,\n",
              "       207.70622055, 170.31578553, 163.51582981, 158.01722038,\n",
              "       159.24844927, 191.03221117, 153.67548199, 162.2628798 ,\n",
              "       179.94678297, 159.59194636, 179.43779983, 208.4001221 ,\n",
              "       179.10815422, 182.96744987, 179.43779983, 176.56340996,\n",
              "       179.10815422, 176.19769034, 180.33938312, 167.48212767,\n",
              "       225.79657536, 180.33938312, 171.62382045, 175.3590616 ,\n",
              "       179.43779983, 214.625524  , 182.70137902, 189.78713079,\n",
              "       214.49137729, 164.10847557, 180.68288021, 177.47884473,\n",
              "       176.54118743, 174.96646144, 171.2312203 , 171.2312203 ,\n",
              "       175.29610705, 184.08847575, 188.02519763, 187.28311854,\n",
              "       179.43779983, 210.87643137, 159.24844927, 181.05771663,\n",
              "       170.72223717, 177.44277072, 212.00992855, 181.19186335,\n",
              "       192.67587355, 175.29610705, 144.95991933, 175.3590616 ,\n",
              "       227.02780426, 180.33938312, 176.19769034, 185.2132609 ,\n",
              "       144.95991933, 175.37291308, 175.37291308, 175.37291308,\n",
              "       144.95991933, 185.33355613, 179.94678297, 192.67587355,\n",
              "       179.10815422, 118.23635733, 179.43779983, 153.67548199,\n",
              "       186.1944074 , 191.43079317, 181.54373148, 153.67548199,\n",
              "       174.96646144, 174.96646144, 182.44531477, 185.33355613,\n",
              "       180.33938312, 133.82962853, 189.78713079, 181.19186335,\n",
              "       170.72223717, 150.77886959, 160.61921741, 184.08847575,\n",
              "       170.31578553, 176.63046475, 176.19769034, 181.79979573,\n",
              "       113.58568141, 144.95991933, 214.625524  , 179.10815422,\n",
              "       174.45747831, 179.94678297, 180.15613335, 185.33355613,\n",
              "       179.10815422, 184.08847575, 213.38044362, 179.10815422,\n",
              "       170.72223717, 182.30877886, 187.28910039, 173.92286181,\n",
              "       157.02649402, 184.29782613, 179.43779983, 185.33355613,\n",
              "       170.31578553, 187.28910039, 208.7297677 ])"
            ]
          },
          "metadata": {},
          "execution_count": 178
        }
      ]
    },
    {
      "cell_type": "code",
      "source": [
        "y_test"
      ],
      "metadata": {
        "colab": {
          "base_uri": "https://localhost:8080/"
        },
        "id": "GS9jiFhQAmDM",
        "outputId": "febce6ed-de13-4420-a221-42da9f9dfc4c"
      },
      "execution_count": null,
      "outputs": [
        {
          "output_type": "execute_result",
          "data": {
            "text/plain": [
              "716     200\n",
              "2244    200\n",
              "2032    400\n",
              "289     200\n",
              "1172    200\n",
              "       ... \n",
              "2305     65\n",
              "198     200\n",
              "86      200\n",
              "2474     65\n",
              "1606    200\n",
              "Name: program_duration_days, Length: 287, dtype: int64"
            ]
          },
          "metadata": {},
          "execution_count": 179
        }
      ]
    },
    {
      "cell_type": "code",
      "source": [
        "residual = prediction - y_test"
      ],
      "metadata": {
        "id": "Q7nMlzElAsgN"
      },
      "execution_count": null,
      "outputs": []
    },
    {
      "cell_type": "code",
      "source": [
        "import seaborn as sns"
      ],
      "metadata": {
        "id": "0YrF9l_TA3H2"
      },
      "execution_count": null,
      "outputs": []
    },
    {
      "cell_type": "code",
      "source": [
        "sns.displot(residual , bins = 50 )"
      ],
      "metadata": {
        "colab": {
          "base_uri": "https://localhost:8080/",
          "height": 524
        },
        "id": "EJnO4frxA_MF",
        "outputId": "84937a9a-c310-4a6f-a7b8-b73b05ed6e19"
      },
      "execution_count": null,
      "outputs": [
        {
          "output_type": "execute_result",
          "data": {
            "text/plain": [
              "<seaborn.axisgrid.FacetGrid at 0x7a3c4d988460>"
            ]
          },
          "metadata": {},
          "execution_count": 182
        },
        {
          "output_type": "display_data",
          "data": {
            "text/plain": [
              "<Figure size 500x500 with 1 Axes>"
            ],
            "image/png": "[encoded data removed]"
          },
          "metadata": {}
        }
      ]
    },
    {
      "cell_type": "code",
      "source": [
        "from sklearn import metrics"
      ],
      "metadata": {
        "id": "xSieOhYMBF3W"
      },
      "execution_count": null,
      "outputs": []
    },
    {
      "cell_type": "code",
      "source": [
        "print('MAE' , metrics.mean_absolute_error(y_test , prediction))"
      ],
      "metadata": {
        "colab": {
          "base_uri": "https://localhost:8080/"
        },
        "id": "k7x2Pzd2BQCe",
        "outputId": "bd1d15b0-08e9-44e1-e595-454b948576fa"
      },
      "execution_count": null,
      "outputs": [
        {
          "output_type": "stream",
          "name": "stdout",
          "text": [
            "MAE 80.17769897814811\n"
          ]
        }
      ]
    },
    {
      "cell_type": "code",
      "source": [
        "import pickle"
      ],
      "metadata": {
        "id": "GLtJxF33Bg8a"
      },
      "execution_count": null,
      "outputs": []
    },
    {
      "cell_type": "code",
      "source": [
        "pickle.dump(lr,open('pathrise_model.pkl' , 'wb'))"
      ],
      "metadata": {
        "id": "bcdLlOxyBume"
      },
      "execution_count": null,
      "outputs": []
    },
    {
      "cell_type": "code",
      "source": [],
      "metadata": {
        "id": "uDQrWHY3B8uS"
      },
      "execution_count": null,
      "outputs": []
    }
  ]
}